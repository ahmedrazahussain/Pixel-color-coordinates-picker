{
 "cells": [
  {
   "cell_type": "code",
   "execution_count": 1,
   "id": "df8a657d-0a17-4eb1-bed3-9e592b17c397",
   "metadata": {},
   "outputs": [],
   "source": [
    "import cv2 as cv\n",
    "import numpy as np\n",
    "\n",
    "def mouse_event(event, x, y, flag, par):\n",
    "    if event == cv.EVENT_LBUTTONDOWN:\n",
    "        text = '('+str(x)+','+str(y)+')'\n",
    "        cv.putText(img, text, (x,y), 2, 1, (0,255,0), 4)\n",
    "    if event == cv.EVENT_RBUTTONDOWN:\n",
    "        col = str(img[y,x])\n",
    "        cv.putText(img, col, (x,y), 2, 1, (0,0,255),4)\n",
    "\n",
    "\n",
    "cv.namedWindow('image')\n",
    "\n",
    "img = cv.imread('img.jpg')\n",
    "img = cv.resize(img, (500,500))\n",
    "\n",
    "cv.setMouseCallback('image',mouse_event)\n",
    "\n",
    "while True:\n",
    "    cv.imshow('image',img)\n",
    "    if cv.waitKey(1) & 0xff == ord('z'):\n",
    "        break\n",
    "\n",
    "cv.destroyAllWindows()\n"
   ]
  }
 ],
 "metadata": {
  "kernelspec": {
   "display_name": "Python 3 (ipykernel)",
   "language": "python",
   "name": "python3"
  },
  "language_info": {
   "codemirror_mode": {
    "name": "ipython",
    "version": 3
   },
   "file_extension": ".py",
   "mimetype": "text/x-python",
   "name": "python",
   "nbconvert_exporter": "python",
   "pygments_lexer": "ipython3",
   "version": "3.13.2"
  }
 },
 "nbformat": 4,
 "nbformat_minor": 5
}
